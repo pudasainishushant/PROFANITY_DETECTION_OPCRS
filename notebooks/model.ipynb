{
 "cells": [
  {
   "cell_type": "markdown",
   "metadata": {},
   "source": [
    "Data Extraction"
   ]
  },
  {
   "cell_type": "code",
   "execution_count": 81,
   "metadata": {
    "ExecuteTime": {
     "end_time": "2019-06-02T09:37:31.690591Z",
     "start_time": "2019-06-02T09:37:31.685697Z"
    }
   },
   "outputs": [],
   "source": [
    "import pandas as pd"
   ]
  },
  {
   "cell_type": "code",
   "execution_count": 82,
   "metadata": {
    "ExecuteTime": {
     "end_time": "2019-06-02T09:37:32.157005Z",
     "start_time": "2019-06-02T09:37:31.864054Z"
    }
   },
   "outputs": [],
   "source": [
    "name_df = pd.read_csv(\"name_final_data.csv\",sep=\"\\t\")"
   ]
  },
  {
   "cell_type": "code",
   "execution_count": 83,
   "metadata": {
    "ExecuteTime": {
     "end_time": "2019-06-02T09:37:32.164762Z",
     "start_time": "2019-06-02T09:37:32.158812Z"
    }
   },
   "outputs": [
    {
     "data": {
      "text/plain": [
       "TEXT     object\n",
       "LABEL    object\n",
       "dtype: object"
      ]
     },
     "execution_count": 83,
     "metadata": {},
     "output_type": "execute_result"
    }
   ],
   "source": [
    "name_df.dtypes"
   ]
  },
  {
   "cell_type": "code",
   "execution_count": 84,
   "metadata": {
    "ExecuteTime": {
     "end_time": "2019-06-02T09:37:32.545767Z",
     "start_time": "2019-06-02T09:37:32.166427Z"
    }
   },
   "outputs": [],
   "source": [
    "profane_df = pd.read_csv(\"profane_words_final.csv\",sep=\"\\t\")"
   ]
  },
  {
   "cell_type": "code",
   "execution_count": 85,
   "metadata": {
    "ExecuteTime": {
     "end_time": "2019-06-02T09:37:32.551947Z",
     "start_time": "2019-06-02T09:37:32.548038Z"
    }
   },
   "outputs": [
    {
     "data": {
      "text/plain": [
       "(473002, 2)"
      ]
     },
     "execution_count": 85,
     "metadata": {},
     "output_type": "execute_result"
    }
   ],
   "source": [
    "profane_df.shape"
   ]
  },
  {
   "cell_type": "code",
   "execution_count": 86,
   "metadata": {
    "ExecuteTime": {
     "end_time": "2019-06-02T09:37:32.670841Z",
     "start_time": "2019-06-02T09:37:32.553799Z"
    }
   },
   "outputs": [
    {
     "data": {
      "text/plain": [
       "TEXT     object\n",
       "LABEL    object\n",
       "dtype: object"
      ]
     },
     "execution_count": 86,
     "metadata": {},
     "output_type": "execute_result"
    }
   ],
   "source": [
    "profane_df.dtypes"
   ]
  },
  {
   "cell_type": "code",
   "execution_count": 87,
   "metadata": {
    "ExecuteTime": {
     "end_time": "2019-06-02T09:37:32.864023Z",
     "start_time": "2019-06-02T09:37:32.675042Z"
    }
   },
   "outputs": [],
   "source": [
    "final_df = name_df.append(profane_df, ignore_index=True)"
   ]
  },
  {
   "cell_type": "code",
   "execution_count": 88,
   "metadata": {
    "ExecuteTime": {
     "end_time": "2019-06-02T09:37:33.210611Z",
     "start_time": "2019-06-02T09:37:32.866933Z"
    }
   },
   "outputs": [],
   "source": [
    "final_df=final_df.sample(frac=1).reset_index(drop=True)"
   ]
  },
  {
   "cell_type": "code",
   "execution_count": 89,
   "metadata": {
    "ExecuteTime": {
     "end_time": "2019-06-02T09:37:33.218165Z",
     "start_time": "2019-06-02T09:37:33.211974Z"
    }
   },
   "outputs": [
    {
     "data": {
      "text/plain": [
       "TEXT     object\n",
       "LABEL    object\n",
       "dtype: object"
      ]
     },
     "execution_count": 89,
     "metadata": {},
     "output_type": "execute_result"
    }
   ],
   "source": [
    "final_df.dtypes"
   ]
  },
  {
   "cell_type": "code",
   "execution_count": 90,
   "metadata": {
    "ExecuteTime": {
     "end_time": "2019-06-02T09:37:33.696062Z",
     "start_time": "2019-06-02T09:37:33.527107Z"
    }
   },
   "outputs": [
    {
     "data": {
      "text/plain": [
       "TEXT     0\n",
       "LABEL    0\n",
       "dtype: int64"
      ]
     },
     "execution_count": 90,
     "metadata": {},
     "output_type": "execute_result"
    }
   ],
   "source": [
    "final_df.isna().sum()"
   ]
  },
  {
   "cell_type": "code",
   "execution_count": 91,
   "metadata": {
    "ExecuteTime": {
     "end_time": "2019-06-02T09:37:34.346110Z",
     "start_time": "2019-06-02T09:37:34.338779Z"
    }
   },
   "outputs": [
    {
     "data": {
      "text/html": [
       "<div>\n",
       "<style scoped>\n",
       "    .dataframe tbody tr th:only-of-type {\n",
       "        vertical-align: middle;\n",
       "    }\n",
       "\n",
       "    .dataframe tbody tr th {\n",
       "        vertical-align: top;\n",
       "    }\n",
       "\n",
       "    .dataframe thead th {\n",
       "        text-align: right;\n",
       "    }\n",
       "</style>\n",
       "<table border=\"1\" class=\"dataframe\">\n",
       "  <thead>\n",
       "    <tr style=\"text-align: right;\">\n",
       "      <th></th>\n",
       "      <th>TEXT</th>\n",
       "      <th>LABEL</th>\n",
       "    </tr>\n",
       "  </thead>\n",
       "  <tbody>\n",
       "    <tr>\n",
       "      <th>0</th>\n",
       "      <td>Nar Kumar Updahyay</td>\n",
       "      <td>NAME</td>\n",
       "    </tr>\n",
       "    <tr>\n",
       "      <th>1</th>\n",
       "      <td>ahh</td>\n",
       "      <td>NOTNAME</td>\n",
       "    </tr>\n",
       "    <tr>\n",
       "      <th>2</th>\n",
       "      <td>raechal akshyata tbh noooo</td>\n",
       "      <td>NOTNAME</td>\n",
       "    </tr>\n",
       "    <tr>\n",
       "      <th>3</th>\n",
       "      <td>Bhargaw Mall</td>\n",
       "      <td>NAME</td>\n",
       "    </tr>\n",
       "    <tr>\n",
       "      <th>4</th>\n",
       "      <td>suni pani moj</td>\n",
       "      <td>NOTNAME</td>\n",
       "    </tr>\n",
       "    <tr>\n",
       "      <th>5</th>\n",
       "      <td>Siya Bhugai</td>\n",
       "      <td>NAME</td>\n",
       "    </tr>\n",
       "    <tr>\n",
       "      <th>6</th>\n",
       "      <td>sanji leh stdy gardae</td>\n",
       "      <td>NOTNAME</td>\n",
       "    </tr>\n",
       "    <tr>\n",
       "      <th>7</th>\n",
       "      <td>Bibekananda Bucha</td>\n",
       "      <td>NAME</td>\n",
       "    </tr>\n",
       "    <tr>\n",
       "      <th>8</th>\n",
       "      <td>Suzeeta Gahatraj</td>\n",
       "      <td>NAME</td>\n",
       "    </tr>\n",
       "    <tr>\n",
       "      <th>9</th>\n",
       "      <td>mc salaa chikna</td>\n",
       "      <td>NOTNAME</td>\n",
       "    </tr>\n",
       "  </tbody>\n",
       "</table>\n",
       "</div>"
      ],
      "text/plain": [
       "                         TEXT    LABEL\n",
       "0          Nar Kumar Updahyay     NAME\n",
       "1                         ahh  NOTNAME\n",
       "2  raechal akshyata tbh noooo  NOTNAME\n",
       "3                Bhargaw Mall     NAME\n",
       "4               suni pani moj  NOTNAME\n",
       "5                 Siya Bhugai     NAME\n",
       "6       sanji leh stdy gardae  NOTNAME\n",
       "7           Bibekananda Bucha     NAME\n",
       "8            Suzeeta Gahatraj     NAME\n",
       "9             mc salaa chikna  NOTNAME"
      ]
     },
     "execution_count": 91,
     "metadata": {},
     "output_type": "execute_result"
    }
   ],
   "source": [
    "final_df.head(n=10)"
   ]
  },
  {
   "cell_type": "code",
   "execution_count": 92,
   "metadata": {
    "ExecuteTime": {
     "end_time": "2019-06-02T09:37:35.136231Z",
     "start_time": "2019-06-02T09:37:34.869400Z"
    }
   },
   "outputs": [],
   "source": [
    "for l in final_df[\"TEXT\"]:\n",
    "    if type(l) != str:\n",
    "        print(\"bad\")\n",
    "        print(l)"
   ]
  },
  {
   "cell_type": "code",
   "execution_count": 93,
   "metadata": {
    "ExecuteTime": {
     "end_time": "2019-06-02T09:37:36.073119Z",
     "start_time": "2019-06-02T09:37:35.717772Z"
    }
   },
   "outputs": [],
   "source": [
    "final_df.loc[:,\"TEXT\"] = final_df.TEXT.apply(lambda x : str(x))"
   ]
  },
  {
   "cell_type": "code",
   "execution_count": 94,
   "metadata": {
    "ExecuteTime": {
     "end_time": "2019-06-02T09:37:36.772120Z",
     "start_time": "2019-06-02T09:37:36.565372Z"
    }
   },
   "outputs": [],
   "source": [
    "final_df[\"LABEL\"] = final_df[\"LABEL\"].replace([\"NAME\" , \"NOTNAME\"] , [1 , 0])"
   ]
  },
  {
   "cell_type": "markdown",
   "metadata": {
    "ExecuteTime": {
     "end_time": "2019-05-29T10:43:10.971108Z",
     "start_time": "2019-05-29T10:43:10.869376Z"
    }
   },
   "source": [
    "final_df.loc[:,\"TEXT\"] = final_df.TEXT.apply(lambda x : str.lower(x))"
   ]
  },
  {
   "cell_type": "markdown",
   "metadata": {},
   "source": [
    "Data splitting"
   ]
  },
  {
   "cell_type": "code",
   "execution_count": 95,
   "metadata": {
    "ExecuteTime": {
     "end_time": "2019-06-02T09:37:38.965806Z",
     "start_time": "2019-06-02T09:37:38.803335Z"
    }
   },
   "outputs": [],
   "source": [
    "from sklearn.model_selection import train_test_split\n",
    "\n",
    "X_train, X_test, y_train, y_test = train_test_split(final_df[\"TEXT\"], final_df[\"LABEL\"], \n",
    "                                                    test_size=.33, random_state=17)"
   ]
  },
  {
   "cell_type": "code",
   "execution_count": 96,
   "metadata": {
    "ExecuteTime": {
     "end_time": "2019-06-02T09:37:43.450379Z",
     "start_time": "2019-06-02T09:37:43.445889Z"
    }
   },
   "outputs": [
    {
     "data": {
      "text/plain": [
       "877561    1\n",
       "819308    1\n",
       "567766    0\n",
       "740179    1\n",
       "43749     0\n",
       "162050    1\n",
       "379742    0\n",
       "713105    0\n",
       "697928    0\n",
       "371805    0\n",
       "547399    0\n",
       "123972    0\n",
       "143809    0\n",
       "765796    0\n",
       "448127    0\n",
       "736745    0\n",
       "866382    0\n",
       "730434    1\n",
       "618429    0\n",
       "105820    0\n",
       "501147    0\n",
       "931301    1\n",
       "866544    0\n",
       "481267    1\n",
       "468390    0\n",
       "271333    1\n",
       "834343    0\n",
       "310631    1\n",
       "140804    1\n",
       "326154    1\n",
       "         ..\n",
       "9874      1\n",
       "828177    1\n",
       "908281    0\n",
       "459339    0\n",
       "88437     0\n",
       "101963    1\n",
       "896114    0\n",
       "364491    1\n",
       "848877    0\n",
       "302453    1\n",
       "368790    1\n",
       "771089    1\n",
       "598498    1\n",
       "740537    1\n",
       "567783    1\n",
       "684787    0\n",
       "410895    0\n",
       "300356    1\n",
       "103106    1\n",
       "858557    1\n",
       "68598     0\n",
       "242461    1\n",
       "433302    1\n",
       "26181     1\n",
       "183813    0\n",
       "803007    0\n",
       "568021    1\n",
       "215048    1\n",
       "374774    1\n",
       "178166    0\n",
       "Name: LABEL, Length: 311322, dtype: int64"
      ]
     },
     "execution_count": 96,
     "metadata": {},
     "output_type": "execute_result"
    }
   ],
   "source": [
    "y_test"
   ]
  },
  {
   "cell_type": "code",
   "execution_count": 15,
   "metadata": {
    "ExecuteTime": {
     "end_time": "2019-06-02T07:11:24.058272Z",
     "start_time": "2019-06-02T07:11:00.756119Z"
    }
   },
   "outputs": [
    {
     "name": "stderr",
     "output_type": "stream",
     "text": [
      "Using TensorFlow backend.\n"
     ]
    }
   ],
   "source": [
    "from keras.preprocessing.text import Tokenizer\n",
    "from keras.preprocessing.sequence import pad_sequences\n",
    "vocabulary_size = 20000\n",
    "tokenizer = Tokenizer(char_level=False, oov_token='UNK',num_words = vocabulary_size)\n",
    "tokenizer.fit_on_texts(final_df[\"TEXT\"])\n",
    "sequences = tokenizer.texts_to_sequences(final_df['TEXT'])\n",
    "data = pad_sequences(sequences,maxlen = 10)"
   ]
  },
  {
   "cell_type": "code",
   "execution_count": 16,
   "metadata": {
    "ExecuteTime": {
     "end_time": "2019-06-02T07:11:24.087520Z",
     "start_time": "2019-06-02T07:11:24.071161Z"
    }
   },
   "outputs": [
    {
     "data": {
      "text/plain": [
       "{1: 'UNK',\n",
       " 2: 'lol',\n",
       " 3: 'rana',\n",
       " 4: 'chandra',\n",
       " 5: 'kumar',\n",
       " 6: 'nath',\n",
       " 7: 'ballav',\n",
       " 8: 'prasad',\n",
       " 9: 'bahadur',\n",
       " 10: 'jung',\n",
       " 11: 'aditya',\n",
       " 12: 'september',\n",
       " 13: 'com',\n",
       " 14: 'tyo',\n",
       " 15: 'haha',\n",
       " 16: 'nai',\n",
       " 17: 'october',\n",
       " 18: 'bholi',\n",
       " 19: 'hai',\n",
       " 20: 'haru',\n",
       " 21: 'malai',\n",
       " 22: 'haina',\n",
       " 23: 'hola',\n",
       " 24: 'pani',\n",
       " 25: 'kati',\n",
       " 26: 'xaina',\n",
       " 27: 'tero',\n",
       " 28: 'lala',\n",
       " 29: 'timi',\n",
       " 30: 'bhayo',\n",
       " 31: 'gardai',\n",
       " 32: 'chha',\n",
       " 33: 'okay',\n",
       " 34: 'aja',\n",
       " 35: 'maile',\n",
       " 36: 'bhane',\n",
       " 37: 'hunxa',\n",
       " 38: 'shubham',\n",
       " 39: 'bata',\n",
       " 40: 'kasto',\n",
       " 41: 'aah',\n",
       " 42: 'bhan',\n",
       " 43: 'na',\n",
       " 44: 'jana',\n",
       " 45: 'colz',\n",
       " 46: 'chaina',\n",
       " 47: 'pratik',\n",
       " 48: 'ghar',\n",
       " 49: 'garna',\n",
       " 50: 'timro',\n",
       " 51: 'garne',\n",
       " 52: 'andresh',\n",
       " 53: 'tei',\n",
       " 54: 'huncha',\n",
       " 55: 'kaile',\n",
       " 56: 'samma',\n",
       " 57: 'bhaneko',\n",
       " 58: 'co',\n",
       " 59: 'ahh',\n",
       " 60: 'omar',\n",
       " 61: 'www',\n",
       " 62: 'wala',\n",
       " 63: 'jasto',\n",
       " 64: 'baje',\n",
       " 65: 'dherai',\n",
       " 66: 'kei',\n",
       " 67: 'hahaha',\n",
       " 68: 'bhai',\n",
       " 69: 'kun',\n",
       " 70: 'lo',\n",
       " 71: 'sahil',\n",
       " 72: 'sha',\n",
       " 73: 'chhaina',\n",
       " 74: 'bhaye',\n",
       " 75: 'garira',\n",
       " 76: 'xa',\n",
       " 77: 'aee',\n",
       " 78: 'gareko',\n",
       " 79: 'k',\n",
       " 80: 'thyo',\n",
       " 81: 'fuck',\n",
       " 82: 'shit',\n",
       " 83: 'kata',\n",
       " 84: 'ramailo',\n",
       " 85: 'ho',\n",
       " 86: 'garda',\n",
       " 87: 'thik',\n",
       " 88: 'wtf',\n",
       " 89: 'ramro',\n",
       " 90: 'abhijeet',\n",
       " 91: 'hawa',\n",
       " 92: 'sakyo',\n",
       " 93: 'nepal',\n",
       " 94: 'kura',\n",
       " 95: 'thikai',\n",
       " 96: 'moj',\n",
       " 97: 'dai',\n",
       " 98: 'ali',\n",
       " 99: 'har',\n",
       " 100: 'bha',\n",
       " 101: 'ty',\n",
       " 102: 'talai',\n",
       " 103: 'chahi',\n",
       " 104: 'taile',\n",
       " 105: 'anshu',\n",
       " 106: 'khana',\n",
       " 107: 'sathi',\n",
       " 108: 'nazzii',\n",
       " 109: 'garnu',\n",
       " 110: 'tira',\n",
       " 111: 'lagi',\n",
       " 112: 'cha',\n",
       " 113: 'bhay',\n",
       " 114: 'ta',\n",
       " 115: 'dekhi',\n",
       " 116: 'thaha',\n",
       " 117: 'hehe',\n",
       " 118: 'etikai',\n",
       " 119: 'lagyo',\n",
       " 120: 'omg',\n",
       " 121: 'bhanera',\n",
       " 122: 'hol',\n",
       " 123: 'bho',\n",
       " 124: 'nepali',\n",
       " 125: 'tim',\n",
       " 126: 'patha',\n",
       " 127: 'lal',\n",
       " 128: 'kaam',\n",
       " 129: 'jum',\n",
       " 130: 'yaar',\n",
       " 131: 'sumit',\n",
       " 132: 'bhol',\n",
       " 133: 'p',\n",
       " 134: 'muji',\n",
       " 135: 'garn',\n",
       " 136: 'khai',\n",
       " 137: 'tah',\n",
       " 138: 'aa',\n",
       " 139: 'bhako',\n",
       " 140: 'ayo',\n",
       " 141: 'bida',\n",
       " 142: 'euta',\n",
       " 143: 'andres',\n",
       " 144: 'hmm',\n",
       " 145: 'umm',\n",
       " 146: 'parxa',\n",
       " 147: 'gar',\n",
       " 148: 'kat',\n",
       " 149: 'fifa',\n",
       " 150: 'kh',\n",
       " 151: 'herna',\n",
       " 152: 'ohh',\n",
       " 153: 'xas',\n",
       " 154: 'lel',\n",
       " 155: 'ahile',\n",
       " 156: 'garera',\n",
       " 157: 'ni',\n",
       " 158: 'ehh',\n",
       " 159: 'youtube',\n",
       " 160: 'e',\n",
       " 161: 'timr',\n",
       " 162: 'hain',\n",
       " 163: 'd',\n",
       " 164: 'paxi',\n",
       " 165: 'ha',\n",
       " 166: 'teso',\n",
       " 167: 'ma',\n",
       " 168: 'nistha',\n",
       " 169: 'google',\n",
       " 170: 'idk',\n",
       " 171: 'arko',\n",
       " 172: 'hijo',\n",
       " 173: 'bhanda',\n",
       " 174: 'tya',\n",
       " 175: 'asti',\n",
       " 176: 'parcha',\n",
       " 177: 'futsal',\n",
       " 178: 'paryo',\n",
       " 179: 'pachi',\n",
       " 180: 'dami',\n",
       " 181: 'hya',\n",
       " 182: 'pan',\n",
       " 183: 'dipesh',\n",
       " 184: 'http',\n",
       " 185: 'jan',\n",
       " 186: 'rina',\n",
       " 187: 'kasari',\n",
       " 188: 'bhana',\n",
       " 189: 'goodnight',\n",
       " 190: 'didn',\n",
       " 191: 'shubha',\n",
       " 192: 'bro',\n",
       " 193: 'mom',\n",
       " 194: 'hamro',\n",
       " 195: 'hahah',\n",
       " 196: 'hunchha',\n",
       " 197: 'sala',\n",
       " 198: 'sahi',\n",
       " 199: 'mail',\n",
       " 200: 'riju',\n",
       " 201: 'gonna',\n",
       " 202: 'wanna',\n",
       " 203: 'padhna',\n",
       " 204: 'kya',\n",
       " 205: 'isha',\n",
       " 206: 'sujata',\n",
       " 207: 'chh',\n",
       " 208: 'bhanya',\n",
       " 209: 'rajan',\n",
       " 210: 'sabai',\n",
       " 211: 'huna',\n",
       " 212: 'mala',\n",
       " 213: 'ae',\n",
       " 214: 'hah',\n",
       " 215: 'h',\n",
       " 216: 'neeki',\n",
       " 217: 'mildaina',\n",
       " 218: 'kha',\n",
       " 219: 'atti',\n",
       " 220: 'voli',\n",
       " 221: 'hudaina',\n",
       " 222: 'tmi',\n",
       " 223: 'animesh',\n",
       " 224: 'bhanne',\n",
       " 225: 'gako',\n",
       " 226: 'ter',\n",
       " 227: 'padhis',\n",
       " 228: 'hyaa',\n",
       " 229: 'online',\n",
       " 230: 'col',\n",
       " 231: 'garyo',\n",
       " 232: 'ah',\n",
       " 233: 'xain',\n",
       " 234: 'b',\n",
       " 235: 'testo',\n",
       " 236: 'nabin',\n",
       " 237: 'feri',\n",
       " 238: 'download',\n",
       " 239: 'kahile',\n",
       " 240: 'nisha',\n",
       " 241: 'c',\n",
       " 242: 're',\n",
       " 243: 'r',\n",
       " 244: 'sanjib',\n",
       " 245: 'vayo',\n",
       " 246: 'aaija',\n",
       " 247: 'thiyo',\n",
       " 248: 'mai',\n",
       " 249: 'agadi',\n",
       " 250: 'tapai',\n",
       " 251: 'batti',\n",
       " 252: 'hunx',\n",
       " 253: 'anim',\n",
       " 254: 'yaad',\n",
       " 255: 'la',\n",
       " 256: 'hajur',\n",
       " 257: 'ajkal',\n",
       " 258: 'baki',\n",
       " 259: 'laptop',\n",
       " 260: 'hunna',\n",
       " 261: 'pardaina',\n",
       " 262: 'aayo',\n",
       " 263: 'bhayena',\n",
       " 264: 'testai',\n",
       " 265: 'khelna',\n",
       " 266: 'aj',\n",
       " 267: 'msg',\n",
       " 268: 'chain',\n",
       " 269: 'aaja',\n",
       " 270: 'prashad',\n",
       " 271: 'parne',\n",
       " 272: 'hahahaha',\n",
       " 273: 'aija',\n",
       " 274: 'mula',\n",
       " 275: 'chas',\n",
       " 276: 'abhishek',\n",
       " 277: 'khelne',\n",
       " 278: 'gayo',\n",
       " 279: 'sumukh',\n",
       " 280: 'lagxa',\n",
       " 281: 'yaa',\n",
       " 282: 'plz',\n",
       " 283: 'ku',\n",
       " 284: 'lako',\n",
       " 285: 'timle',\n",
       " 286: 'deko',\n",
       " 287: 'chu',\n",
       " 288: 'kta',\n",
       " 289: 'khoi',\n",
       " 290: 'kail',\n",
       " 291: 'naya',\n",
       " 292: 'khatra',\n",
       " 293: 'kehi',\n",
       " 294: 'wal',\n",
       " 295: 'balla',\n",
       " 296: 'thiye',\n",
       " 297: 'janu',\n",
       " 298: 'bharkhar',\n",
       " 299: 'fucking',\n",
       " 300: 'mo',\n",
       " 301: 'oe',\n",
       " 302: 'comp',\n",
       " 303: 'sem',\n",
       " 304: 'missed',\n",
       " 305: 'abhijee',\n",
       " 306: 'dekh',\n",
       " 307: 'hera',\n",
       " 308: 'doesn',\n",
       " 309: 'gari',\n",
       " 310: 'auna',\n",
       " 311: 'chanda',\n",
       " 312: 'cuz',\n",
       " 313: 'ke',\n",
       " 314: 'dhera',\n",
       " 315: 'oye',\n",
       " 316: 'imma',\n",
       " 317: 'hunch',\n",
       " 318: 'ramail',\n",
       " 319: 'bat',\n",
       " 320: 'yea',\n",
       " 321: 'herira',\n",
       " 322: 'shrestha',\n",
       " 323: 'bhandai',\n",
       " 324: 'kast',\n",
       " 325: 'oie',\n",
       " 326: 'btw',\n",
       " 327: 'lolpratik',\n",
       " 328: 'munmun',\n",
       " 329: 'aunu',\n",
       " 330: 'parsi',\n",
       " 331: 'jaile',\n",
       " 332: 'dota',\n",
       " 333: 'parchha',\n",
       " 334: 'teti',\n",
       " 335: 'alxi',\n",
       " 336: 'dashain',\n",
       " 337: 'aako',\n",
       " 338: 'weasley',\n",
       " 339: 'padhne',\n",
       " 340: 'saky',\n",
       " 341: 'lolo',\n",
       " 342: 'called',\n",
       " 343: 'afai',\n",
       " 344: 'tesko',\n",
       " 345: 'oey',\n",
       " 346: 'boka',\n",
       " 347: 'lau',\n",
       " 348: 'hoina',\n",
       " 349: 'chhain',\n",
       " 350: 'lmao',\n",
       " 351: 'pedo',\n",
       " 352: 'isn',\n",
       " 353: 'gha',\n",
       " 354: 'bihana',\n",
       " 355: 'swagat',\n",
       " 356: 'basira',\n",
       " 357: 'yup',\n",
       " 358: 'sachi',\n",
       " 359: 'khan',\n",
       " 360: 'india',\n",
       " 361: 'hudai',\n",
       " 362: 'yar',\n",
       " 363: 'gaye',\n",
       " 364: 'bhayera',\n",
       " 365: 'sanjeev',\n",
       " 366: 'xam',\n",
       " 367: 'php',\n",
       " 368: 'suru',\n",
       " 369: 'herdai',\n",
       " 370: 'pathau',\n",
       " 371: 'raicha',\n",
       " 372: 'vaye',\n",
       " 373: 'pande',\n",
       " 374: 'shashank',\n",
       " 375: 'her',\n",
       " 376: 'khoya',\n",
       " 377: 'ota',\n",
       " 378: 'bye',\n",
       " 379: 'ajai',\n",
       " 380: 'heh',\n",
       " 381: 'dwnld',\n",
       " 382: 'jast',\n",
       " 383: 'auxa',\n",
       " 384: 'n',\n",
       " 385: 'hun',\n",
       " 386: 'thy',\n",
       " 387: 'auditore',\n",
       " 388: 'bijayabar',\n",
       " 389: 'jhyau',\n",
       " 390: 'chaldai',\n",
       " 391: 'yetikai',\n",
       " 392: 'tmro',\n",
       " 393: 'pachhi',\n",
       " 394: 'pendrive',\n",
       " 395: 'ohhh',\n",
       " 396: 'gay',\n",
       " 397: 'timlai',\n",
       " 398: 'garde',\n",
       " 399: 'ko',\n",
       " 400: 'thah',\n",
       " 401: 'ekxin',\n",
       " 402: 'dpka',\n",
       " 403: 'dam',\n",
       " 404: 'pls',\n",
       " 405: 'kasle',\n",
       " 406: 'esto',\n",
       " 407: 'hune',\n",
       " 408: 'lag',\n",
       " 409: 'etika',\n",
       " 410: 'kathmandu',\n",
       " 411: 'purai',\n",
       " 412: 'jau',\n",
       " 413: 'saru',\n",
       " 414: 'kam',\n",
       " 415: 'byebye',\n",
       " 416: 'rohit',\n",
       " 417: 'thau',\n",
       " 418: 'ch',\n",
       " 419: 'paila',\n",
       " 420: 'hereko',\n",
       " 421: 'abt',\n",
       " 422: 'nup',\n",
       " 423: 'natra',\n",
       " 424: 'sath',\n",
       " 425: 'colg',\n",
       " 426: 'sameer',\n",
       " 427: 'jhan',\n",
       " 428: 'sh',\n",
       " 429: 'paranjaya',\n",
       " 430: 'pandey',\n",
       " 431: 'vai',\n",
       " 432: 'heard',\n",
       " 433: 'slytherin',\n",
       " 434: 'gotta',\n",
       " 435: 'bhari',\n",
       " 436: 'nigga',\n",
       " 437: 'hunu',\n",
       " 438: 'sefina',\n",
       " 439: 'nah',\n",
       " 440: 'sangai',\n",
       " 441: 'bhanna',\n",
       " 442: 'aau',\n",
       " 443: 'sajilo',\n",
       " 444: 'garya',\n",
       " 445: 'thanx',\n",
       " 446: 'rati',\n",
       " 447: 'ramina',\n",
       " 448: 'sandeep',\n",
       " 449: 'pugyo',\n",
       " 450: 'heryo',\n",
       " 451: 'shreeti',\n",
       " 452: 'jaane',\n",
       " 453: 'sodh',\n",
       " 454: 'emoji',\n",
       " 455: 'haw',\n",
       " 456: 'thiy',\n",
       " 457: 'thi',\n",
       " 458: 'ramrari',\n",
       " 459: 'bhar',\n",
       " 460: 'jastai',\n",
       " 461: 'viber',\n",
       " 462: 't',\n",
       " 463: 'padhira',\n",
       " 464: 'lageko',\n",
       " 465: 'pradhanang',\n",
       " 466: 'padh',\n",
       " 467: 'tehi',\n",
       " 468: 'baj',\n",
       " 469: 'garo',\n",
       " 470: 'anu',\n",
       " 471: 'o',\n",
       " 472: 'lai',\n",
       " 473: 'jpt',\n",
       " 474: 'abo',\n",
       " 475: 'ahhh',\n",
       " 476: 'pathako',\n",
       " 477: 'yayy',\n",
       " 478: 'mishra',\n",
       " 479: 'chhito',\n",
       " 480: 'eklai',\n",
       " 481: 'sonu',\n",
       " 482: 'heris',\n",
       " 483: 'mulaa',\n",
       " 484: 'shakya',\n",
       " 485: 'aba',\n",
       " 486: 'prakash',\n",
       " 487: 'holi',\n",
       " 488: 'xau',\n",
       " 489: 'garek',\n",
       " 490: 'kur',\n",
       " 491: 'bhaner',\n",
       " 492: 'bahira',\n",
       " 493: 'meh',\n",
       " 494: 'shreesha',\n",
       " 495: 'samm',\n",
       " 496: 'sah',\n",
       " 497: 'barsha',\n",
       " 498: 'ok',\n",
       " 499: 'matra',\n",
       " 500: 'samir',\n",
       " 501: 'english',\n",
       " 502: 'ekchhin',\n",
       " 503: 'pashal',\n",
       " 504: 'kinda',\n",
       " 505: 'ron',\n",
       " 506: 'da',\n",
       " 507: 'md',\n",
       " 508: 'gary',\n",
       " 509: 'babu',\n",
       " 510: 'deo',\n",
       " 511: 'kaa',\n",
       " 512: 'lya',\n",
       " 513: 'ranima',\n",
       " 514: 'bichara',\n",
       " 515: 'aww',\n",
       " 516: 'milxa',\n",
       " 517: 'xdd',\n",
       " 518: 'garxu',\n",
       " 519: 'din',\n",
       " 520: 'pawan',\n",
       " 521: 'pakh',\n",
       " 522: 'a',\n",
       " 523: 'sunil',\n",
       " 524: 'lagcha',\n",
       " 525: 'raixa',\n",
       " 526: 'hahha',\n",
       " 527: 'herum',\n",
       " 528: 'ravenclaw',\n",
       " 529: 'fer',\n",
       " 530: 'bana',\n",
       " 531: 'wanted',\n",
       " 532: 'ay',\n",
       " 533: 'bh',\n",
       " 534: 'tesai',\n",
       " 535: 'alchi',\n",
       " 536: 'gayera',\n",
       " 537: 'ain',\n",
       " 538: 'tha',\n",
       " 539: 'chito',\n",
       " 540: 'kucc',\n",
       " 541: 'clas',\n",
       " 542: 'dina',\n",
       " 543: 'dhakal',\n",
       " 544: 'sailesh',\n",
       " 545: 'ra',\n",
       " 546: 'garxa',\n",
       " 547: 'ina',\n",
       " 548: 'tapa',\n",
       " 549: 'nirajan',\n",
       " 550: 'hahahahaha',\n",
       " 551: 'lera',\n",
       " 552: 'anupam',\n",
       " 553: 'khane',\n",
       " 554: 'sunwi',\n",
       " 555: 'ramrai',\n",
       " 556: 'tir',\n",
       " 557: 'internet',\n",
       " 558: 'gard',\n",
       " 559: 'hahahah',\n",
       " 560: 'sara',\n",
       " 561: 'thika',\n",
       " 562: 'chaiyo',\n",
       " 563: 'yay',\n",
       " 564: 'bhanek',\n",
       " 565: 'ju',\n",
       " 566: 'ttyl',\n",
       " 567: 'bid',\n",
       " 568: 'te',\n",
       " 569: 'padhdai',\n",
       " 570: 'bhannu',\n",
       " 571: 'payo',\n",
       " 572: 'aaune',\n",
       " 573: 'garchu',\n",
       " 574: 'jaa',\n",
       " 575: 'saley',\n",
       " 576: 'u',\n",
       " 577: 'saba',\n",
       " 578: 'prashant',\n",
       " 579: 'vanera',\n",
       " 580: 'parx',\n",
       " 581: 'haii',\n",
       " 582: 'sakxa',\n",
       " 583: 'fon',\n",
       " 584: 'daami',\n",
       " 585: 'ya',\n",
       " 586: 'raichha',\n",
       " 587: 'colez',\n",
       " 588: 'hogwarts',\n",
       " 589: 'pathak',\n",
       " 590: 'bhau',\n",
       " 591: 'yomari',\n",
       " 592: 'bhann',\n",
       " 593: 'khatte',\n",
       " 594: 'gpa',\n",
       " 595: 'sutna',\n",
       " 596: 'gudnite',\n",
       " 597: 'herera',\n",
       " 598: 'gardeu',\n",
       " 599: 'chem',\n",
       " 600: 'um',\n",
       " 601: 'hern',\n",
       " 602: 'padhn',\n",
       " 603: 'nabi',\n",
       " 604: 'patrick',\n",
       " 605: 'al',\n",
       " 606: 'anurag',\n",
       " 607: 'vaneko',\n",
       " 608: 'akshyata',\n",
       " 609: 'name',\n",
       " 610: 'westworld',\n",
       " 611: 'sreysii',\n",
       " 612: 'nabhaye',\n",
       " 613: 'lastai',\n",
       " 614: 'padhya',\n",
       " 615: 'banauna',\n",
       " 616: 'audaina',\n",
       " 617: 'nashubham',\n",
       " 618: 'app',\n",
       " 619: 'milyo',\n",
       " 620: 'started',\n",
       " 621: 'jesus',\n",
       " 622: 'lolandresh',\n",
       " 623: 'baira',\n",
       " 624: 'belka',\n",
       " 625: 'manu',\n",
       " 626: 'diya',\n",
       " 627: 'manxe',\n",
       " 628: 'g',\n",
       " 629: 'meme',\n",
       " 630: 'agi',\n",
       " 631: 'sahid',\n",
       " 632: 'asshole',\n",
       " 633: 'kamar',\n",
       " 634: 'tesma',\n",
       " 635: 'pax',\n",
       " 636: 'x',\n",
       " 637: 'hudain',\n",
       " 638: 'youre',\n",
       " 639: 'ms',\n",
       " 640: 'timl',\n",
       " 641: 'arya',\n",
       " 642: 'eh',\n",
       " 643: 'pheri',\n",
       " 644: 'pura',\n",
       " 645: 'khanal',\n",
       " 646: 'himym',\n",
       " 647: 'awww',\n",
       " 648: 'pakhe',\n",
       " 649: 'panash',\n",
       " 650: 'afno',\n",
       " 651: 'boi',\n",
       " 652: 'najane',\n",
       " 653: 'saale',\n",
       " 654: 'sanchai',\n",
       " 655: 'janxa',\n",
       " 656: 'test',\n",
       " 657: 'aren',\n",
       " 658: 'playing',\n",
       " 659: 'ktm',\n",
       " 660: 'khayo',\n",
       " 661: 'ghanta',\n",
       " 662: 'halxa',\n",
       " 663: 'timla',\n",
       " 664: 'kumari',\n",
       " 665: 'deu',\n",
       " 666: 'padheko',\n",
       " 667: 'sanji',\n",
       " 668: 'sachit',\n",
       " 669: 'aauna',\n",
       " 670: 'yogesh',\n",
       " 671: 'naruto',\n",
       " 672: 'sure',\n",
       " 673: 'laala',\n",
       " 674: 'kira',\n",
       " 675: 'having',\n",
       " 676: 'lak',\n",
       " 677: 'rin',\n",
       " 678: 'etc',\n",
       " 679: 'changed',\n",
       " 680: 'upload',\n",
       " 681: 'fif',\n",
       " 682: 'chah',\n",
       " 683: 'bhanyo',\n",
       " 684: 'bhancha',\n",
       " 685: 'wbu',\n",
       " 686: 'tuladhar',\n",
       " 687: 'lekheko',\n",
       " 688: 'teslai',\n",
       " 689: 'shaishav',\n",
       " 690: 'matrai',\n",
       " 691: 'alchhi',\n",
       " 692: 'bhetna',\n",
       " 693: 'kina',\n",
       " 694: 'umbridge',\n",
       " 695: 'pdf',\n",
       " 696: 'katti',\n",
       " 697: 'dnt',\n",
       " 698: 'khayou',\n",
       " 699: 'jha',\n",
       " 700: 'choti',\n",
       " 701: 'joshi',\n",
       " 702: 'gautam',\n",
       " 703: 'kandel',\n",
       " 704: 'hernu',\n",
       " 705: 'janxas',\n",
       " 706: 'halkhabar',\n",
       " 707: 'lolshubham',\n",
       " 708: 'gtg',\n",
       " 709: 'gupta',\n",
       " 710: 'i',\n",
       " 711: 'ehhh',\n",
       " 712: 'eut',\n",
       " 713: 'auchha',\n",
       " 714: 'mah',\n",
       " 715: 'kt',\n",
       " 716: 'bjbar',\n",
       " 717: 'nish',\n",
       " 718: 'vay',\n",
       " 719: 'loved',\n",
       " 720: 'oka',\n",
       " 721: 'garir',\n",
       " 722: 'hamr',\n",
       " 723: 'golu',\n",
       " 724: 'chan',\n",
       " 725: 'dr',\n",
       " 726: 'garchhu',\n",
       " 727: 'tyaha',\n",
       " 728: 'chaudhary',\n",
       " 729: 'kyare',\n",
       " 730: 'dabhijeet',\n",
       " 731: 'aviskar',\n",
       " 732: 'raja',\n",
       " 733: 'sth',\n",
       " 734: 'aan',\n",
       " 735: 'hmmm',\n",
       " 736: 'milcha',\n",
       " 737: 'fbid',\n",
       " 738: 'prajapati',\n",
       " 739: 'aucha',\n",
       " 740: 'basera',\n",
       " 741: 'xu',\n",
       " 742: 'java',\n",
       " 743: 'ayena',\n",
       " 744: 'kasko',\n",
       " 745: 'l',\n",
       " 746: 'ye',\n",
       " 747: 'joystick',\n",
       " 748: 'purano',\n",
       " 749: 'pd',\n",
       " 750: 'lae',\n",
       " 751: 'asking',\n",
       " 752: 'gt',\n",
       " 753: 'asked',\n",
       " 754: 'dopesh',\n",
       " 755: 'napratik',\n",
       " 756: 'tesaile',\n",
       " 757: 'pasal',\n",
       " 758: 'smh',\n",
       " 759: 'sakar',\n",
       " 760: 'binamra',\n",
       " 761: 'chya',\n",
       " 762: 'dinchu',\n",
       " 763: 'manjil',\n",
       " 764: 'm',\n",
       " 765: 'vako',\n",
       " 766: 'bhayeko',\n",
       " 767: 'hora',\n",
       " 768: 'shukla',\n",
       " 769: 'kuikel',\n",
       " 770: 'herxu',\n",
       " 771: 'gayeko',\n",
       " 772: 'ujjwol',\n",
       " 773: 'sakcha',\n",
       " 774: 'bahek',\n",
       " 775: 'dinu',\n",
       " 776: 'milchha',\n",
       " 777: 'boii',\n",
       " 778: 'pary',\n",
       " 779: 'prasha',\n",
       " 780: 'soni',\n",
       " 781: 'aun',\n",
       " 782: 'kasar',\n",
       " 783: 'jamma',\n",
       " 784: 'laai',\n",
       " 785: 'hona',\n",
       " 786: 'sophiya',\n",
       " 787: 'mui',\n",
       " 788: 'lolsahil',\n",
       " 789: 'ban',\n",
       " 790: 'chau',\n",
       " 791: 'sachin',\n",
       " 792: 'janxu',\n",
       " 793: 'basne',\n",
       " 794: 'naandresh',\n",
       " 795: 'ofc',\n",
       " 796: 'karan',\n",
       " 797: 'saurav',\n",
       " 798: 'bhat',\n",
       " 799: 'ganesh',\n",
       " 800: 'khoj',\n",
       " 801: 'chhu',\n",
       " 802: 'maa',\n",
       " 803: 'de',\n",
       " 804: 'tom',\n",
       " 805: 'bati',\n",
       " 806: 'praja',\n",
       " 807: 'rakhna',\n",
       " 808: 'dhilo',\n",
       " 809: 'rai',\n",
       " 810: 'sake',\n",
       " 811: 'halka',\n",
       " 812: 'kiran',\n",
       " 813: 'happened',\n",
       " 814: 'parla',\n",
       " 815: 'udaya',\n",
       " 816: 'nidhi',\n",
       " 817: 'dhaka',\n",
       " 818: 'ekchoti',\n",
       " 819: 'shekh',\n",
       " 820: 'iphone',\n",
       " 821: 'edu',\n",
       " 822: 'padhnu',\n",
       " 823: 'amatya',\n",
       " 824: 'basi',\n",
       " 825: 'manandhar',\n",
       " 826: 'surendra',\n",
       " 827: 'aauxa',\n",
       " 828: 'pako',\n",
       " 829: 'skype',\n",
       " 830: 'jah',\n",
       " 831: 'sijapati',\n",
       " 832: 'suneko',\n",
       " 833: 'dincha',\n",
       " 834: 'singh',\n",
       " 835: 'rashmi',\n",
       " 836: 'joti',\n",
       " 837: 'thulo',\n",
       " 838: 'tannai',\n",
       " 839: 'aeae',\n",
       " 840: 'pradhan',\n",
       " 841: 'bk',\n",
       " 842: 'baidya',\n",
       " 843: 'bhaisakyo',\n",
       " 844: 'lyk',\n",
       " 845: 'bhochhibhoya',\n",
       " 846: 'an',\n",
       " 847: 'aayesha',\n",
       " 848: 'mana',\n",
       " 849: 'paneru',\n",
       " 850: 'chat',\n",
       " 851: 'devi',\n",
       " 852: 'jwala',\n",
       " 853: 'fone',\n",
       " 854: 'american',\n",
       " 855: 'deerwalk',\n",
       " 856: 'mata',\n",
       " 857: 'mya',\n",
       " 858: 'htt',\n",
       " 859: 'ppl',\n",
       " 860: 'tanna',\n",
       " 861: 'chalaune',\n",
       " 862: 'ooh',\n",
       " 863: 'kid',\n",
       " 864: 'kinna',\n",
       " 865: 'oh',\n",
       " 866: 'lupin',\n",
       " 867: 'jaisi',\n",
       " 868: 'kheln',\n",
       " 869: 'downloa',\n",
       " 870: 'ja',\n",
       " 871: 'tm',\n",
       " 872: 'hunchh',\n",
       " 873: 'bau',\n",
       " 874: 'nay',\n",
       " 875: 'tesle',\n",
       " 876: 'sagar',\n",
       " 877: 'khang',\n",
       " 878: 'anand',\n",
       " 879: 'rishiraj',\n",
       " 880: 'sanskriti',\n",
       " 881: 'chand',\n",
       " 882: 'bajracharya',\n",
       " 883: 'kaslai',\n",
       " 884: 'dhulikhel',\n",
       " 885: 'aashish',\n",
       " 886: 'keshari',\n",
       " 887: 'engnrng',\n",
       " 888: 'garam',\n",
       " 889: 'balami',\n",
       " 890: 'bikesh',\n",
       " 891: 'neku',\n",
       " 892: 'thapa',\n",
       " 893: 'sherchan',\n",
       " 894: 'mul',\n",
       " 895: 'yarrobin',\n",
       " 896: 'woah',\n",
       " 897: 'sakya',\n",
       " 898: 'bhayi',\n",
       " 899: 'ghimire',\n",
       " 900: 'afroj',\n",
       " 901: 'koteshwor',\n",
       " 902: 'roy',\n",
       " 903: 'badi',\n",
       " 904: 'adarsha',\n",
       " 905: 'thalyo',\n",
       " 906: 'sunam',\n",
       " 907: 'nanju',\n",
       " 908: 'yakami',\n",
       " 909: 'banmali',\n",
       " 910: 'mahajan',\n",
       " 911: 'byanjankar',\n",
       " 912: 'jaishi',\n",
       " 913: 'dware',\n",
       " 914: 'ummm',\n",
       " 915: 'dhir',\n",
       " 916: 'kashyap',\n",
       " 917: 'dev',\n",
       " 918: 'maga',\n",
       " 919: 'kaushik',\n",
       " 920: 'mathi',\n",
       " 921: 'sandhya',\n",
       " 922: 'dipu',\n",
       " 923: 'biswas',\n",
       " 924: 'ranjit',\n",
       " 925: 'usle',\n",
       " 926: 'estai',\n",
       " 927: 'das',\n",
       " 928: 'dawadi',\n",
       " 929: 'bidhya',\n",
       " 930: 'adhikar',\n",
       " 931: 'bom',\n",
       " 932: 'ive',\n",
       " 933: 'panthee',\n",
       " 934: 'pinky',\n",
       " 935: 'rakha',\n",
       " 936: 'man',\n",
       " 937: 'regmi',\n",
       " 938: 'dahal',\n",
       " 939: 'paudyal',\n",
       " 940: 'huda',\n",
       " 941: 'hu',\n",
       " 942: 'hoo',\n",
       " 943: 'xina',\n",
       " 944: 'sarthak',\n",
       " 945: 'dhungel',\n",
       " 946: 'no',\n",
       " 947: 'khera',\n",
       " 948: 'sadiksha',\n",
       " 949: 'yunish',\n",
       " 950: 'bharati',\n",
       " 951: 'tashi',\n",
       " 952: 'sangachhe',\n",
       " 953: 'rakheko',\n",
       " 954: 'lage',\n",
       " 955: 'achhami',\n",
       " 956: 'nandan',\n",
       " 957: 'babal',\n",
       " 958: 'garxas',\n",
       " 959: 'thiyena',\n",
       " 960: 'hunthyo',\n",
       " 961: 'dikshya',\n",
       " 962: 'samundra',\n",
       " 963: 'sewa',\n",
       " 964: 'lyaide',\n",
       " 965: 'husen',\n",
       " 966: 'niroj',\n",
       " 967: 'dhital',\n",
       " 968: 'kaliraj',\n",
       " 969: 'poudel',\n",
       " 970: 'neupane',\n",
       " 971: 'ojha',\n",
       " 972: 'sodheko',\n",
       " 973: 'youtu',\n",
       " 974: 'bikram',\n",
       " 975: 'subba',\n",
       " 976: 'xainashubham',\n",
       " 977: 'james',\n",
       " 978: 'rahul',\n",
       " 979: 'gurung',\n",
       " 980: 'duh',\n",
       " 981: 'barun',\n",
       " 982: 'bato',\n",
       " 983: 'maharjan',\n",
       " 984: 'joseph',\n",
       " 985: 'sony',\n",
       " 986: 'tbh',\n",
       " 987: 'jangam',\n",
       " 988: 'kasaju',\n",
       " 989: 'begam',\n",
       " 990: 'chaulagai',\n",
       " 991: 'yass',\n",
       " 992: 'dangol',\n",
       " 993: 'bhaira',\n",
       " 994: 'sharada',\n",
       " 995: 'gryffindor',\n",
       " 996: 'atal',\n",
       " 997: 'gaurav',\n",
       " 998: 'siddhi',\n",
       " 999: 'garu',\n",
       " 1000: 'kayastha',\n",
       " ...}"
      ]
     },
     "execution_count": 16,
     "metadata": {},
     "output_type": "execute_result"
    }
   ],
   "source": [
    "tokenizer.index_word"
   ]
  },
  {
   "cell_type": "code",
   "execution_count": 17,
   "metadata": {
    "ExecuteTime": {
     "end_time": "2019-06-02T07:11:24.480286Z",
     "start_time": "2019-06-02T07:11:24.100667Z"
    }
   },
   "outputs": [],
   "source": [
    "final_df[\"LABEL\"] = final_df[\"LABEL\"].replace([\"NAME\" , \"NOTNAME\"] , [1 , 0])"
   ]
  },
  {
   "cell_type": "code",
   "execution_count": 18,
   "metadata": {
    "ExecuteTime": {
     "end_time": "2019-06-02T07:11:24.490855Z",
     "start_time": "2019-06-02T07:11:24.484989Z"
    }
   },
   "outputs": [],
   "source": [
    "labels = final_df[\"LABEL\"]"
   ]
  },
  {
   "cell_type": "code",
   "execution_count": 19,
   "metadata": {
    "ExecuteTime": {
     "end_time": "2019-06-02T07:11:24.638656Z",
     "start_time": "2019-06-02T07:11:24.493075Z"
    }
   },
   "outputs": [],
   "source": [
    "from keras.models import Sequential\n",
    "from keras.layers.embeddings import Embedding\n",
    "from keras.layers import Dense,  LSTM, Conv1D, MaxPooling1D, Dropout, Activation\n",
    "import numpy as np\n",
    "from keras.layers import BatchNormalization"
   ]
  },
  {
   "cell_type": "code",
   "execution_count": 20,
   "metadata": {
    "ExecuteTime": {
     "end_time": "2019-06-02T07:46:05.841006Z",
     "start_time": "2019-06-02T07:11:24.640235Z"
    }
   },
   "outputs": [
    {
     "name": "stdout",
     "output_type": "stream",
     "text": [
      "WARNING:tensorflow:From /home/ai5/anaconda3/envs/infodevai/lib/python3.7/site-packages/tensorflow/python/framework/op_def_library.py:263: colocate_with (from tensorflow.python.framework.ops) is deprecated and will be removed in a future version.\n",
      "Instructions for updating:\n",
      "Colocations handled automatically by placer.\n",
      "WARNING:tensorflow:From /home/ai5/anaconda3/envs/infodevai/lib/python3.7/site-packages/keras/backend/tensorflow_backend.py:3445: calling dropout (from tensorflow.python.ops.nn_ops) with keep_prob is deprecated and will be removed in a future version.\n",
      "Instructions for updating:\n",
      "Please use `rate` instead of `keep_prob`. Rate should be set to `rate = 1 - keep_prob`.\n",
      "WARNING:tensorflow:From /home/ai5/anaconda3/envs/infodevai/lib/python3.7/site-packages/tensorflow/python/ops/math_ops.py:3066: to_int32 (from tensorflow.python.ops.math_ops) is deprecated and will be removed in a future version.\n",
      "Instructions for updating:\n",
      "Use tf.cast instead.\n",
      "Train on 566039 samples, validate on 377360 samples\n",
      "Epoch 1/8\n",
      "566039/566039 [==============================] - 310s 547us/step - loss: 0.0613 - acc: 0.9788 - val_loss: 0.0125 - val_acc: 0.9966\n",
      "Epoch 2/8\n",
      "566039/566039 [==============================] - 225s 398us/step - loss: 0.0122 - acc: 0.9967 - val_loss: 0.0057 - val_acc: 0.9982\n",
      "Epoch 3/8\n",
      "566039/566039 [==============================] - 225s 397us/step - loss: 0.0065 - acc: 0.9983 - val_loss: 0.0073 - val_acc: 0.9982\n",
      "Epoch 4/8\n",
      "566039/566039 [==============================] - 295s 522us/step - loss: 0.0044 - acc: 0.9990 - val_loss: 0.0045 - val_acc: 0.9991\n",
      "Epoch 5/8\n",
      "566039/566039 [==============================] - 300s 531us/step - loss: 0.0030 - acc: 0.9993 - val_loss: 0.0037 - val_acc: 0.9993\n",
      "Epoch 6/8\n",
      "566039/566039 [==============================] - 271s 479us/step - loss: 0.0024 - acc: 0.9995 - val_loss: 0.0037 - val_acc: 0.9993\n",
      "Epoch 7/8\n",
      "566039/566039 [==============================] - 228s 402us/step - loss: 0.0025 - acc: 0.9995 - val_loss: 0.0041 - val_acc: 0.9992\n",
      "Epoch 8/8\n",
      "566039/566039 [==============================] - 224s 395us/step - loss: 0.0025 - acc: 0.9995 - val_loss: 0.0035 - val_acc: 0.9992\n"
     ]
    },
    {
     "data": {
      "text/plain": [
       "<keras.callbacks.History at 0x7fbc147fa898>"
      ]
     },
     "execution_count": 20,
     "metadata": {},
     "output_type": "execute_result"
    }
   ],
   "source": [
    "model2 = Sequential()\n",
    "model2.add(Embedding(20000, 50, input_length=10))\n",
    "model2.add(LSTM(50, dropout=0.2, recurrent_dropout=0.2))\n",
    "model2.add(BatchNormalization())\n",
    "model2.add(Dropout(0.4))\n",
    "model2.add(Dense(50, activation=\"tanh\"))\n",
    "model2.add(BatchNormalization())\n",
    "model2.add(Dropout(0.4))\n",
    "model2.add(Dense(50, activation=\"tanh\"))\n",
    "model2.add(BatchNormalization())\n",
    "model2.add(Dropout(0.4))\n",
    "model2.add(Dense(1, activation=\"sigmoid\"))\n",
    "model2.compile(loss='binary_crossentropy', optimizer='adam', metrics=['accuracy'])\n",
    "model2.fit(data, np.array(labels), validation_split=0.4, epochs=8)"
   ]
  },
  {
   "cell_type": "code",
   "execution_count": 45,
   "metadata": {
    "ExecuteTime": {
     "end_time": "2019-06-02T08:54:41.555380Z",
     "start_time": "2019-06-02T08:54:41.550541Z"
    }
   },
   "outputs": [],
   "source": [
    "test_df = pd.read_csv(\"test_data.csv\",sep=\"\\t\")"
   ]
  },
  {
   "cell_type": "code",
   "execution_count": 46,
   "metadata": {
    "ExecuteTime": {
     "end_time": "2019-06-02T08:54:41.858051Z",
     "start_time": "2019-06-02T08:54:41.840916Z"
    }
   },
   "outputs": [
    {
     "data": {
      "text/html": [
       "<div>\n",
       "<style scoped>\n",
       "    .dataframe tbody tr th:only-of-type {\n",
       "        vertical-align: middle;\n",
       "    }\n",
       "\n",
       "    .dataframe tbody tr th {\n",
       "        vertical-align: top;\n",
       "    }\n",
       "\n",
       "    .dataframe thead th {\n",
       "        text-align: right;\n",
       "    }\n",
       "</style>\n",
       "<table border=\"1\" class=\"dataframe\">\n",
       "  <thead>\n",
       "    <tr style=\"text-align: right;\">\n",
       "      <th></th>\n",
       "      <th>text</th>\n",
       "      <th>label</th>\n",
       "    </tr>\n",
       "  </thead>\n",
       "  <tbody>\n",
       "    <tr>\n",
       "      <th>0</th>\n",
       "      <td>Rajendra Sapkota</td>\n",
       "      <td>1.0</td>\n",
       "    </tr>\n",
       "    <tr>\n",
       "      <th>1</th>\n",
       "      <td>Subodh Chandra Shakya</td>\n",
       "      <td>1.0</td>\n",
       "    </tr>\n",
       "    <tr>\n",
       "      <th>2</th>\n",
       "      <td>Saugat Adhikari</td>\n",
       "      <td>1.0</td>\n",
       "    </tr>\n",
       "    <tr>\n",
       "      <th>3</th>\n",
       "      <td>Sabin Acharya</td>\n",
       "      <td>1.0</td>\n",
       "    </tr>\n",
       "    <tr>\n",
       "      <th>4</th>\n",
       "      <td>Binod Chaudhary</td>\n",
       "      <td>1.0</td>\n",
       "    </tr>\n",
       "  </tbody>\n",
       "</table>\n",
       "</div>"
      ],
      "text/plain": [
       "                    text  label\n",
       "0       Rajendra Sapkota    1.0\n",
       "1  Subodh Chandra Shakya    1.0\n",
       "2        Saugat Adhikari    1.0\n",
       "3          Sabin Acharya    1.0\n",
       "4        Binod Chaudhary    1.0"
      ]
     },
     "execution_count": 46,
     "metadata": {},
     "output_type": "execute_result"
    }
   ],
   "source": [
    "test_df.head(n=5)"
   ]
  },
  {
   "cell_type": "code",
   "execution_count": 47,
   "metadata": {
    "ExecuteTime": {
     "end_time": "2019-06-02T08:54:42.079651Z",
     "start_time": "2019-06-02T08:54:42.062731Z"
    }
   },
   "outputs": [
    {
     "data": {
      "text/plain": [
       "text      object\n",
       "label    float64\n",
       "dtype: object"
      ]
     },
     "execution_count": 47,
     "metadata": {},
     "output_type": "execute_result"
    }
   ],
   "source": [
    "test_df.dtypes"
   ]
  },
  {
   "cell_type": "code",
   "execution_count": 48,
   "metadata": {
    "ExecuteTime": {
     "end_time": "2019-06-02T08:54:42.277159Z",
     "start_time": "2019-06-02T08:54:42.271358Z"
    }
   },
   "outputs": [],
   "source": [
    "test = test_df[\"text\"]\n",
    "test_label = test_df[\"label\"]"
   ]
  },
  {
   "cell_type": "code",
   "execution_count": 49,
   "metadata": {
    "ExecuteTime": {
     "end_time": "2019-06-02T08:54:42.473099Z",
     "start_time": "2019-06-02T08:54:42.462671Z"
    }
   },
   "outputs": [],
   "source": [
    "sequences_test = tokenizer.texts_to_sequences(test)\n",
    "test_data = pad_sequences(sequences_test,maxlen = 10)"
   ]
  },
  {
   "cell_type": "code",
   "execution_count": 50,
   "metadata": {
    "ExecuteTime": {
     "end_time": "2019-06-02T08:54:42.685930Z",
     "start_time": "2019-06-02T08:54:42.671130Z"
    }
   },
   "outputs": [],
   "source": [
    "test_pred = model2.predict(test_data)"
   ]
  },
  {
   "cell_type": "code",
   "execution_count": 51,
   "metadata": {
    "ExecuteTime": {
     "end_time": "2019-06-02T08:54:42.876128Z",
     "start_time": "2019-06-02T08:54:42.863424Z"
    }
   },
   "outputs": [],
   "source": [
    "new_pred = []\n",
    "for i in test_pred:\n",
    "    if i>0.5:\n",
    "        new_pred.append(\"NAME\")\n",
    "    else:\n",
    "        new_pred.append(\"NOTNAME\")"
   ]
  },
  {
   "cell_type": "code",
   "execution_count": 52,
   "metadata": {
    "ExecuteTime": {
     "end_time": "2019-06-02T08:54:43.077388Z",
     "start_time": "2019-06-02T08:54:43.070783Z"
    }
   },
   "outputs": [],
   "source": [
    "result = [(i,j)for i,j in zip(test,new_pred)]"
   ]
  },
  {
   "cell_type": "code",
   "execution_count": 53,
   "metadata": {
    "ExecuteTime": {
     "end_time": "2019-06-02T08:54:44.320347Z",
     "start_time": "2019-06-02T08:54:44.316273Z"
    },
    "scrolled": false
   },
   "outputs": [
    {
     "data": {
      "text/plain": [
       "[('Rajendra Sapkota', 'NAME'),\n",
       " ('Subodh Chandra Shakya', 'NAME'),\n",
       " ('Saugat Adhikari', 'NAME'),\n",
       " ('Sabin Acharya', 'NAME'),\n",
       " ('Binod Chaudhary', 'NAME'),\n",
       " ('Keshav Kumar Aryal', 'NAME'),\n",
       " ('Jeet Bahadur Khamcha', 'NAME'),\n",
       " ('Jit Khamcha', 'NAME'),\n",
       " ('Ishwor Subedi', 'NAME'),\n",
       " ('Nitesh Ghimire', 'NAME'),\n",
       " ('Asmita Khakurel', 'NAME'),\n",
       " ('Asmi Bhujhel', 'NOTNAME'),\n",
       " ('Abin Khatiwada', 'NAME'),\n",
       " ('Binod Pudasaini', 'NAME'),\n",
       " ('Hari Lama', 'NAME'),\n",
       " ('Ram Chandra Lamichhanne', 'NAME'),\n",
       " ('Rajnita randi', 'NOTNAME'),\n",
       " ('Sambriddhi Sharma', 'NAME'),\n",
       " ('Archana Shakya', 'NAME'),\n",
       " ('mula', 'NOTNAME'),\n",
       " ('tero bauuu', 'NOTNAME'),\n",
       " ('aalu jasto', 'NOTNAME'),\n",
       " ('chor', 'NOTNAME'),\n",
       " ('bhaate', 'NOTNAME'),\n",
       " ('khaate', 'NOTNAME'),\n",
       " ('ganjeee', 'NOTNAME'),\n",
       " ('maam paka', 'NOTNAME'),\n",
       " ('railaa', 'NOTNAME'),\n",
       " ('raila', 'NOTNAME'),\n",
       " ('kera jasto ', 'NOTNAME'),\n",
       " ('tero bau', 'NOTNAME'),\n",
       " ('badar jasto tah', 'NOTNAME'),\n",
       " ('baadar', 'NOTNAME'),\n",
       " ('monkey', 'NOTNAME'),\n",
       " ('donkey', 'NOTNAME'),\n",
       " ('tah gadha', 'NOTNAME'),\n",
       " ('bhatuwa', 'NOTNAME'),\n",
       " ('kale bhale', 'NOTNAME'),\n",
       " ('muji randi', 'NOTNAME'),\n",
       " ('tyo bhaalo ho`1', 'NOTNAME')]"
      ]
     },
     "execution_count": 53,
     "metadata": {},
     "output_type": "execute_result"
    }
   ],
   "source": [
    "result"
   ]
  },
  {
   "cell_type": "markdown",
   "metadata": {
    "ExecuteTime": {
     "end_time": "2019-06-02T09:37:56.425198Z",
     "start_time": "2019-06-02T09:37:56.421708Z"
    }
   },
   "source": [
    "On testing data\n"
   ]
  },
  {
   "cell_type": "code",
   "execution_count": 98,
   "metadata": {
    "ExecuteTime": {
     "end_time": "2019-06-02T09:38:01.288902Z",
     "start_time": "2019-06-02T09:38:01.285992Z"
    }
   },
   "outputs": [
    {
     "data": {
      "text/plain": [
       "((311322,), (311322,))"
      ]
     },
     "execution_count": 98,
     "metadata": {},
     "output_type": "execute_result"
    }
   ],
   "source": [
    "X_test.shape,y_test.shape"
   ]
  },
  {
   "cell_type": "code",
   "execution_count": 99,
   "metadata": {
    "ExecuteTime": {
     "end_time": "2019-06-02T09:38:05.311004Z",
     "start_time": "2019-06-02T09:38:02.211405Z"
    }
   },
   "outputs": [],
   "source": [
    "sequences_for_test = tokenizer.texts_to_sequences(X_test)\n",
    "final_test_data = pad_sequences(sequences_for_test,maxlen = 10)"
   ]
  },
  {
   "cell_type": "code",
   "execution_count": 100,
   "metadata": {
    "ExecuteTime": {
     "end_time": "2019-06-02T09:38:05.316750Z",
     "start_time": "2019-06-02T09:38:05.312585Z"
    }
   },
   "outputs": [
    {
     "data": {
      "text/plain": [
       "877561    1\n",
       "819308    1\n",
       "567766    0\n",
       "740179    1\n",
       "43749     0\n",
       "162050    1\n",
       "379742    0\n",
       "713105    0\n",
       "697928    0\n",
       "371805    0\n",
       "547399    0\n",
       "123972    0\n",
       "143809    0\n",
       "765796    0\n",
       "448127    0\n",
       "736745    0\n",
       "866382    0\n",
       "730434    1\n",
       "618429    0\n",
       "105820    0\n",
       "501147    0\n",
       "931301    1\n",
       "866544    0\n",
       "481267    1\n",
       "468390    0\n",
       "271333    1\n",
       "834343    0\n",
       "310631    1\n",
       "140804    1\n",
       "326154    1\n",
       "         ..\n",
       "9874      1\n",
       "828177    1\n",
       "908281    0\n",
       "459339    0\n",
       "88437     0\n",
       "101963    1\n",
       "896114    0\n",
       "364491    1\n",
       "848877    0\n",
       "302453    1\n",
       "368790    1\n",
       "771089    1\n",
       "598498    1\n",
       "740537    1\n",
       "567783    1\n",
       "684787    0\n",
       "410895    0\n",
       "300356    1\n",
       "103106    1\n",
       "858557    1\n",
       "68598     0\n",
       "242461    1\n",
       "433302    1\n",
       "26181     1\n",
       "183813    0\n",
       "803007    0\n",
       "568021    1\n",
       "215048    1\n",
       "374774    1\n",
       "178166    0\n",
       "Name: LABEL, Length: 311322, dtype: int64"
      ]
     },
     "execution_count": 100,
     "metadata": {},
     "output_type": "execute_result"
    }
   ],
   "source": [
    "y_test"
   ]
  },
  {
   "cell_type": "code",
   "execution_count": 101,
   "metadata": {
    "ExecuteTime": {
     "end_time": "2019-06-02T09:38:18.142920Z",
     "start_time": "2019-06-02T09:38:09.590523Z"
    }
   },
   "outputs": [
    {
     "name": "stdout",
     "output_type": "stream",
     "text": [
      "acc: 99.94%\n"
     ]
    }
   ],
   "source": [
    "# evaluate the model\n",
    "scores = model2.evaluate(final_test_data, y_test, verbose=0)\n",
    "print(\"%s: %.2f%%\" % (model2.metrics_names[1], scores[1]*100))"
   ]
  },
  {
   "cell_type": "code",
   "execution_count": 102,
   "metadata": {
    "ExecuteTime": {
     "end_time": "2019-06-02T09:39:28.271879Z",
     "start_time": "2019-06-02T09:39:27.750476Z"
    }
   },
   "outputs": [
    {
     "name": "stdout",
     "output_type": "stream",
     "text": [
      "Saved model to disk\n"
     ]
    }
   ],
   "source": [
    "# serialize model to JSON\n",
    "model_json = model2.to_json()\n",
    "with open(\"model.json\", \"w\") as json_file:\n",
    "    json_file.write(model_json)\n",
    "# serialize weights to HDF5\n",
    "model2.save_weights(\"model.h5\")\n",
    "print(\"Saved model to disk\")"
   ]
  },
  {
   "cell_type": "code",
   "execution_count": 104,
   "metadata": {
    "ExecuteTime": {
     "end_time": "2019-06-02T09:40:43.884057Z",
     "start_time": "2019-06-02T09:40:43.175150Z"
    }
   },
   "outputs": [
    {
     "name": "stdout",
     "output_type": "stream",
     "text": [
      "Loaded model from disk\n"
     ]
    }
   ],
   "source": [
    "from keras.models import model_from_json\n",
    "# load json and create model\n",
    "json_file = open('model.json', 'r')\n",
    "loaded_model_json = json_file.read()\n",
    "json_file.close()\n",
    "loaded_model = model_from_json(loaded_model_json)\n",
    "# load weights into new model\n",
    "loaded_model.load_weights(\"model.h5\")\n",
    "print(\"Loaded model from disk\")"
   ]
  },
  {
   "cell_type": "code",
   "execution_count": 105,
   "metadata": {
    "ExecuteTime": {
     "end_time": "2019-06-02T09:41:44.798225Z",
     "start_time": "2019-06-02T09:41:34.569623Z"
    }
   },
   "outputs": [
    {
     "name": "stdout",
     "output_type": "stream",
     "text": [
      "acc: 99.94%\n"
     ]
    }
   ],
   "source": [
    "# evaluate loaded model on test data\n",
    "loaded_model.compile(loss='binary_crossentropy', optimizer='adam', metrics=['accuracy'])\n",
    "score = loaded_model.evaluate(final_test_data, y_test, verbose=0)\n",
    "print(\"%s: %.2f%%\" % (loaded_model.metrics_names[1], score[1]*100))"
   ]
  },
  {
   "cell_type": "code",
   "execution_count": null,
   "metadata": {},
   "outputs": [],
   "source": []
  },
  {
   "cell_type": "code",
   "execution_count": null,
   "metadata": {},
   "outputs": [],
   "source": []
  },
  {
   "cell_type": "code",
   "execution_count": null,
   "metadata": {},
   "outputs": [],
   "source": []
  },
  {
   "cell_type": "code",
   "execution_count": null,
   "metadata": {},
   "outputs": [],
   "source": []
  },
  {
   "cell_type": "code",
   "execution_count": null,
   "metadata": {},
   "outputs": [],
   "source": []
  }
 ],
 "metadata": {
  "kernelspec": {
   "display_name": "Python 3",
   "language": "python",
   "name": "python3"
  },
  "language_info": {
   "codemirror_mode": {
    "name": "ipython",
    "version": 3
   },
   "file_extension": ".py",
   "mimetype": "text/x-python",
   "name": "python",
   "nbconvert_exporter": "python",
   "pygments_lexer": "ipython3",
   "version": "3.7.3"
  }
 },
 "nbformat": 4,
 "nbformat_minor": 2
}
